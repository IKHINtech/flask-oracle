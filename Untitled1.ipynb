{
 "cells": [
  {
   "cell_type": "code",
   "execution_count": 35,
   "metadata": {},
   "outputs": [],
   "source": [
    "from transitions import Machine"
   ]
  },
  {
   "cell_type": "code",
   "execution_count": 36,
   "metadata": {},
   "outputs": [],
   "source": [
    "class Matter(object):\n",
    "    pass\n",
    "\n",
    "lump = Matter()"
   ]
  },
  {
   "cell_type": "code",
   "execution_count": 37,
   "metadata": {},
   "outputs": [],
   "source": [
    "# define our states and transitions\n",
    "states=['solid', 'liquid', 'gas', 'plasma']\n",
    "\n",
    "transitions = [\n",
    "    { 'trigger': 'melt', 'source': 'solid', 'dest': 'liquid' },\n",
    "    { 'trigger': 'evaporate', 'source': 'liquid', 'dest': 'gas' },\n",
    "    { 'trigger': 'sublimate', 'source': 'solid', 'dest': 'gas' },\n",
    "    { 'trigger': 'ionize', 'source': 'gas', 'dest': 'plasma' }\n",
    "]\n"
   ]
  },
  {
   "cell_type": "code",
   "execution_count": 38,
   "metadata": {},
   "outputs": [],
   "source": [
    "machine = Machine(lump, states=states, transitions=transitions, initial='liquid')"
   ]
  },
  {
   "cell_type": "code",
   "execution_count": 39,
   "metadata": {},
   "outputs": [
    {
     "data": {
      "text/plain": [
       "'liquid'"
      ]
     },
     "execution_count": 39,
     "metadata": {},
     "output_type": "execute_result"
    }
   ],
   "source": [
    "lump.state"
   ]
  },
  {
   "cell_type": "code",
   "execution_count": 41,
   "metadata": {},
   "outputs": [
    {
     "data": {
      "text/plain": [
       "{'evaporate': <Event('evaporate')@139834745640720>,\n",
       " 'ionize': <Event('ionize')@139834745641168>,\n",
       " 'melt': <Event('melt')@139834745642792>,\n",
       " 'sublimate': <Event('sublimate')@139834745640888>,\n",
       " 'to_gas': <Event('to_gas')@139834745642400>,\n",
       " 'to_liquid': <Event('to_liquid')@139834745642064>,\n",
       " 'to_plasma': <Event('to_plasma')@139834745640328>,\n",
       " 'to_solid': <Event('to_solid')@139834745640160>}"
      ]
     },
     "execution_count": 41,
     "metadata": {},
     "output_type": "execute_result"
    }
   ],
   "source": [
    "machine.events"
   ]
  },
  {
   "cell_type": "code",
   "execution_count": null,
   "metadata": {},
   "outputs": [],
   "source": []
  }
 ],
 "metadata": {
  "kernelspec": {
   "display_name": "Python 3",
   "language": "python",
   "name": "python3"
  },
  "language_info": {
   "codemirror_mode": {
    "name": "ipython",
    "version": 3
   },
   "file_extension": ".py",
   "mimetype": "text/x-python",
   "name": "python",
   "nbconvert_exporter": "python",
   "pygments_lexer": "ipython3",
   "version": "3.5.2"
  }
 },
 "nbformat": 4,
 "nbformat_minor": 2
}
